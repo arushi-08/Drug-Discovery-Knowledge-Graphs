{
 "cells": [
  {
   "cell_type": "markdown",
   "id": "c57172e7",
   "metadata": {},
   "source": [
    "Given graph database that comes from database of compound to gene relations and gene to biological process relations.\n",
    "\n",
    "\n",
    "Compounds -downregulatesgene-> Genes ... Genes -associated-> +Ve effect on Fibroblast proliferation\n",
    "\n",
    "\n",
    "Approaches:\n",
    "* Identify compounds from above query results that are most likely to downregulate genes associated with fibroblast proliferation\n",
    "* Predict genes that can be associated with Fibroblast proliferation (Gene-Biological process prediction)\n",
    "* Predict compounds that can downregulate the genes that are associated with Fibroblast (Compound-Gene prediction)"
   ]
  },
  {
   "cell_type": "code",
   "execution_count": null,
   "id": "060111d7",
   "metadata": {},
   "outputs": [],
   "source": [
    "# steps:\n",
    "# find closest genes (small alpha) that are associated to medications that downregulate FB\n",
    "# for each medication, assign votes to genes that are closest\n",
    "\n",
    "# smaller alpha (closer gene) -> darker color\n"
   ]
  },
  {
   "cell_type": "code",
   "execution_count": null,
   "id": "d2254a2d",
   "metadata": {},
   "outputs": [],
   "source": []
  },
  {
   "cell_type": "code",
   "execution_count": null,
   "id": "63075e41",
   "metadata": {},
   "outputs": [],
   "source": [
    "find cluster of drugs that are similar to known drugs "
   ]
  },
  {
   "cell_type": "markdown",
   "id": "1f593515",
   "metadata": {},
   "source": [
    "#### Identify compounds from above query results that are most likely to downregulate genes associated with fibroblast proliferation\n",
    "\n",
    "Hypothesis is that clustering compounds based on graph embeddings and then selecting the cluster with the most likelihood of downregulating any of the genes associated with fibroblast proliferation, is the most relevant cluster for wound healing process.\n",
    "\n",
    "* For each cluster, calculate average likelihood that a compound in that cluster will downregulate each gene.\n",
    "  *  Create a binary matrix where each row represents a compound and each column represents a gene.\n",
    "  *  The entries in this matrix should be 1 if the compound downregulates the gene and 0 otherwise\n",
    "  *  Get the average number of genes that each compound downregulates.\n",
    "  *  Calculate maximum value to represent cluster's maximum average likelihood\n",
    "\n",
    "\n",
    "* select the cluster with the highest average likelihood. "
   ]
  },
  {
   "cell_type": "code",
   "execution_count": 2,
   "id": "62da7a70",
   "metadata": {},
   "outputs": [],
   "source": [
    "from typing import List\n",
    "import torch\n",
    "import pykeen.nn\n",
    "import numpy as np\n",
    "import pandas as pd\n",
    "from pykeen.pipeline import pipeline\n",
    "\n",
    "\n",
    "my_pykeen_model = torch.load(\n",
    "  './test_unstratified_stopped_complex_dir/trained_model.pkl',\n",
    "    map_location=torch.device('cpu')\n",
    ")\n",
    "\n",
    "entity_representation_modules = my_pykeen_model.entity_representations\n",
    "relation_representation_modules = my_pykeen_model.relation_representations\n",
    "\n",
    "\n",
    "entity_embeddings: pykeen.nn.Embedding = entity_representation_modules[0]\n",
    "relation_embeddings: pykeen.nn.Embedding = relation_representation_modules[0]"
   ]
  },
  {
   "cell_type": "code",
   "execution_count": 3,
   "id": "585b32e7",
   "metadata": {},
   "outputs": [
    {
     "data": {
      "text/html": [
       "<div>\n",
       "<style scoped>\n",
       "    .dataframe tbody tr th:only-of-type {\n",
       "        vertical-align: middle;\n",
       "    }\n",
       "\n",
       "    .dataframe tbody tr th {\n",
       "        vertical-align: top;\n",
       "    }\n",
       "\n",
       "    .dataframe thead th {\n",
       "        text-align: right;\n",
       "    }\n",
       "</style>\n",
       "<table border=\"1\" class=\"dataframe\">\n",
       "  <thead>\n",
       "    <tr style=\"text-align: right;\">\n",
       "      <th></th>\n",
       "      <th>Compound</th>\n",
       "    </tr>\n",
       "  </thead>\n",
       "  <tbody>\n",
       "    <tr>\n",
       "      <th>0</th>\n",
       "      <td>Caffeine</td>\n",
       "    </tr>\n",
       "    <tr>\n",
       "      <th>1</th>\n",
       "      <td>Bromhexine</td>\n",
       "    </tr>\n",
       "  </tbody>\n",
       "</table>\n",
       "</div>"
      ],
      "text/plain": [
       "     Compound\n",
       "0    Caffeine\n",
       "1  Bromhexine"
      ]
     },
     "execution_count": 3,
     "metadata": {},
     "output_type": "execute_result"
    }
   ],
   "source": [
    "compounds_df = pd.read_csv('./hetionet_compounds.csv')\n",
    "compounds_df.head(2)"
   ]
  },
  {
   "cell_type": "code",
   "execution_count": 11,
   "id": "1189fd41",
   "metadata": {},
   "outputs": [],
   "source": [
    "import pandas as pd\n",
    "\n",
    "entity_to_id_df = pd.read_csv(\n",
    "    '/Users/arushisharma/Documents/Pitt Work/biology_hetionet/test_unstratified_stopped_complex_dir/training_triples/entity_to_id.tsv',\n",
    "    sep='\\t'\n",
    ")"
   ]
  },
  {
   "cell_type": "code",
   "execution_count": 12,
   "id": "e0dcb728",
   "metadata": {},
   "outputs": [],
   "source": [
    "from pykeen.triples import TriplesFactory\n",
    "import torch\n",
    "\n",
    "\n",
    "def get_compound_embedding(drug):\n",
    "    \n",
    "    try:\n",
    "        drug_idx = entity_to_id_df[entity_to_id_df['label']==drug]['id'].iloc[0]\n",
    "        return entity_embeddings(\n",
    "            indices=torch.tensor([drug_idx])\n",
    "        ).detach().numpy()\n",
    "    \n",
    "    except Exception:\n",
    "        return []\n"
   ]
  },
  {
   "cell_type": "code",
   "execution_count": 7,
   "id": "ae6113d0",
   "metadata": {},
   "outputs": [
    {
     "data": {
      "text/html": [
       "<div>\n",
       "<style scoped>\n",
       "    .dataframe tbody tr th:only-of-type {\n",
       "        vertical-align: middle;\n",
       "    }\n",
       "\n",
       "    .dataframe tbody tr th {\n",
       "        vertical-align: top;\n",
       "    }\n",
       "\n",
       "    .dataframe thead th {\n",
       "        text-align: right;\n",
       "    }\n",
       "</style>\n",
       "<table border=\"1\" class=\"dataframe\">\n",
       "  <thead>\n",
       "    <tr style=\"text-align: right;\">\n",
       "      <th></th>\n",
       "      <th>Compound (Source)</th>\n",
       "      <th>Between_relation</th>\n",
       "      <th>Between_gene</th>\n",
       "      <th>Between gene description</th>\n",
       "      <th>Final_relation</th>\n",
       "      <th>Biological Process (Target)</th>\n",
       "    </tr>\n",
       "  </thead>\n",
       "  <tbody>\n",
       "    <tr>\n",
       "      <th>0</th>\n",
       "      <td>Afatinib</td>\n",
       "      <td>DOWNREGULATES_CdG</td>\n",
       "      <td>CCNA2</td>\n",
       "      <td>cyclin A2</td>\n",
       "      <td>PARTICIPATES_GpBP</td>\n",
       "      <td>positive regulation of fibroblast proliferation</td>\n",
       "    </tr>\n",
       "    <tr>\n",
       "      <th>1</th>\n",
       "      <td>Raloxifene</td>\n",
       "      <td>DOWNREGULATES_CdG</td>\n",
       "      <td>CCNA2</td>\n",
       "      <td>cyclin A2</td>\n",
       "      <td>PARTICIPATES_GpBP</td>\n",
       "      <td>positive regulation of fibroblast proliferation</td>\n",
       "    </tr>\n",
       "    <tr>\n",
       "      <th>2</th>\n",
       "      <td>Sirolimus</td>\n",
       "      <td>DOWNREGULATES_CdG</td>\n",
       "      <td>CCNA2</td>\n",
       "      <td>cyclin A2</td>\n",
       "      <td>PARTICIPATES_GpBP</td>\n",
       "      <td>positive regulation of fibroblast proliferation</td>\n",
       "    </tr>\n",
       "  </tbody>\n",
       "</table>\n",
       "</div>"
      ],
      "text/plain": [
       "  Compound (Source)   Between_relation Between_gene Between gene description   \n",
       "0          Afatinib  DOWNREGULATES_CdG        CCNA2                cyclin A2  \\\n",
       "1        Raloxifene  DOWNREGULATES_CdG        CCNA2                cyclin A2   \n",
       "2         Sirolimus  DOWNREGULATES_CdG        CCNA2                cyclin A2   \n",
       "\n",
       "      Final_relation                      Biological Process (Target)  \n",
       "0  PARTICIPATES_GpBP  positive regulation of fibroblast proliferation  \n",
       "1  PARTICIPATES_GpBP  positive regulation of fibroblast proliferation  \n",
       "2  PARTICIPATES_GpBP  positive regulation of fibroblast proliferation  "
      ]
     },
     "execution_count": 7,
     "metadata": {},
     "output_type": "execute_result"
    }
   ],
   "source": [
    "\n",
    "df2 = pd.read_csv(\n",
    "    'compounds_affecting_genes_participating_fibroblast_proliferation.csv'\n",
    ")\n",
    "df2.head(3)"
   ]
  },
  {
   "cell_type": "code",
   "execution_count": 13,
   "id": "71aac0e3",
   "metadata": {},
   "outputs": [],
   "source": [
    "compounds_df['Compound embedding'] = compounds_df['Compound'].apply(\n",
    "    get_compound_embedding\n",
    ")"
   ]
  },
  {
   "cell_type": "code",
   "execution_count": 8,
   "id": "5861e7a3",
   "metadata": {},
   "outputs": [],
   "source": [
    "def compound_downregulates_gene(compound, gene):\n",
    "    return not df2[\n",
    "        (df2['Compound (Source)']==compound) \n",
    "        & (df2['Between_gene']==gene)\n",
    "        & (df2['Between_relation']=='DOWNREGULATES_CdG')\n",
    "    ].empty"
   ]
  },
  {
   "cell_type": "code",
   "execution_count": 38,
   "id": "4abdadb6",
   "metadata": {
    "scrolled": true
   },
   "outputs": [],
   "source": [
    "embeddings = compounds_df[\n",
    "    compounds_df['Compound'].isin(df2['Compound (Source)'])\n",
    "]['Compound embedding'].tolist()"
   ]
  },
  {
   "cell_type": "code",
   "execution_count": 106,
   "id": "a45f3a90",
   "metadata": {},
   "outputs": [],
   "source": [
    "import numpy as np\n",
    "from sklearn.cluster import KMeans\n",
    "\n",
    "# Preprocess the Hetionet dataset\n",
    "# Create a list of genes associated with the fibroblast proliferation biological process\n",
    "genes = df2['Between_gene'].unique().tolist() # fill in with the relevant genes\n",
    "\n",
    "# Create a list of compounds that downregulate these genes\n",
    "compounds = df2['Compound (Source)'].unique().tolist() # fill in with the relevant compounds\n",
    "\n",
    "# Create a binary matrix where each row represents a compound and each column represents a gene\n",
    "# The entries in this matrix should be 1 if the compound downregulates the gene and 0 otherwise\n",
    "y = np.zeros((len(compounds), len(genes)))\n",
    "for i, compound in enumerate(compounds):\n",
    "    for j, gene in enumerate(genes):\n",
    "        if compound_downregulates_gene(compound, gene):\n",
    "            y[i, j] = 1"
   ]
  },
  {
   "cell_type": "code",
   "execution_count": 32,
   "id": "c18f0d79",
   "metadata": {},
   "outputs": [
    {
     "data": {
      "text/plain": [
       "(1, 200)"
      ]
     },
     "execution_count": 32,
     "metadata": {},
     "output_type": "execute_result"
    }
   ],
   "source": [
    "embeddings[0].shape"
   ]
  },
  {
   "cell_type": "code",
   "execution_count": 39,
   "id": "7beb9dbf",
   "metadata": {},
   "outputs": [
    {
     "name": "stderr",
     "output_type": "stream",
     "text": [
      "/opt/homebrew/lib/python3.11/site-packages/sklearn/cluster/_kmeans.py:870: FutureWarning: The default value of `n_init` will change from 10 to 'auto' in 1.4. Set the value of `n_init` explicitly to suppress the warning\n",
      "  warnings.warn(\n"
     ]
    },
    {
     "data": {
      "text/html": [
       "<style>#sk-container-id-2 {color: black;background-color: white;}#sk-container-id-2 pre{padding: 0;}#sk-container-id-2 div.sk-toggleable {background-color: white;}#sk-container-id-2 label.sk-toggleable__label {cursor: pointer;display: block;width: 100%;margin-bottom: 0;padding: 0.3em;box-sizing: border-box;text-align: center;}#sk-container-id-2 label.sk-toggleable__label-arrow:before {content: \"▸\";float: left;margin-right: 0.25em;color: #696969;}#sk-container-id-2 label.sk-toggleable__label-arrow:hover:before {color: black;}#sk-container-id-2 div.sk-estimator:hover label.sk-toggleable__label-arrow:before {color: black;}#sk-container-id-2 div.sk-toggleable__content {max-height: 0;max-width: 0;overflow: hidden;text-align: left;background-color: #f0f8ff;}#sk-container-id-2 div.sk-toggleable__content pre {margin: 0.2em;color: black;border-radius: 0.25em;background-color: #f0f8ff;}#sk-container-id-2 input.sk-toggleable__control:checked~div.sk-toggleable__content {max-height: 200px;max-width: 100%;overflow: auto;}#sk-container-id-2 input.sk-toggleable__control:checked~label.sk-toggleable__label-arrow:before {content: \"▾\";}#sk-container-id-2 div.sk-estimator input.sk-toggleable__control:checked~label.sk-toggleable__label {background-color: #d4ebff;}#sk-container-id-2 div.sk-label input.sk-toggleable__control:checked~label.sk-toggleable__label {background-color: #d4ebff;}#sk-container-id-2 input.sk-hidden--visually {border: 0;clip: rect(1px 1px 1px 1px);clip: rect(1px, 1px, 1px, 1px);height: 1px;margin: -1px;overflow: hidden;padding: 0;position: absolute;width: 1px;}#sk-container-id-2 div.sk-estimator {font-family: monospace;background-color: #f0f8ff;border: 1px dotted black;border-radius: 0.25em;box-sizing: border-box;margin-bottom: 0.5em;}#sk-container-id-2 div.sk-estimator:hover {background-color: #d4ebff;}#sk-container-id-2 div.sk-parallel-item::after {content: \"\";width: 100%;border-bottom: 1px solid gray;flex-grow: 1;}#sk-container-id-2 div.sk-label:hover label.sk-toggleable__label {background-color: #d4ebff;}#sk-container-id-2 div.sk-serial::before {content: \"\";position: absolute;border-left: 1px solid gray;box-sizing: border-box;top: 0;bottom: 0;left: 50%;z-index: 0;}#sk-container-id-2 div.sk-serial {display: flex;flex-direction: column;align-items: center;background-color: white;padding-right: 0.2em;padding-left: 0.2em;position: relative;}#sk-container-id-2 div.sk-item {position: relative;z-index: 1;}#sk-container-id-2 div.sk-parallel {display: flex;align-items: stretch;justify-content: center;background-color: white;position: relative;}#sk-container-id-2 div.sk-item::before, #sk-container-id-2 div.sk-parallel-item::before {content: \"\";position: absolute;border-left: 1px solid gray;box-sizing: border-box;top: 0;bottom: 0;left: 50%;z-index: -1;}#sk-container-id-2 div.sk-parallel-item {display: flex;flex-direction: column;z-index: 1;position: relative;background-color: white;}#sk-container-id-2 div.sk-parallel-item:first-child::after {align-self: flex-end;width: 50%;}#sk-container-id-2 div.sk-parallel-item:last-child::after {align-self: flex-start;width: 50%;}#sk-container-id-2 div.sk-parallel-item:only-child::after {width: 0;}#sk-container-id-2 div.sk-dashed-wrapped {border: 1px dashed gray;margin: 0 0.4em 0.5em 0.4em;box-sizing: border-box;padding-bottom: 0.4em;background-color: white;}#sk-container-id-2 div.sk-label label {font-family: monospace;font-weight: bold;display: inline-block;line-height: 1.2em;}#sk-container-id-2 div.sk-label-container {text-align: center;}#sk-container-id-2 div.sk-container {/* jupyter's `normalize.less` sets `[hidden] { display: none; }` but bootstrap.min.css set `[hidden] { display: none !important; }` so we also need the `!important` here to be able to override the default hidden behavior on the sphinx rendered scikit-learn.org. See: https://github.com/scikit-learn/scikit-learn/issues/21755 */display: inline-block !important;position: relative;}#sk-container-id-2 div.sk-text-repr-fallback {display: none;}</style><div id=\"sk-container-id-2\" class=\"sk-top-container\"><div class=\"sk-text-repr-fallback\"><pre>KMeans(n_clusters=3)</pre><b>In a Jupyter environment, please rerun this cell to show the HTML representation or trust the notebook. <br />On GitHub, the HTML representation is unable to render, please try loading this page with nbviewer.org.</b></div><div class=\"sk-container\" hidden><div class=\"sk-item\"><div class=\"sk-estimator sk-toggleable\"><input class=\"sk-toggleable__control sk-hidden--visually\" id=\"sk-estimator-id-2\" type=\"checkbox\" checked><label for=\"sk-estimator-id-2\" class=\"sk-toggleable__label sk-toggleable__label-arrow\">KMeans</label><div class=\"sk-toggleable__content\"><pre>KMeans(n_clusters=3)</pre></div></div></div></div></div>"
      ],
      "text/plain": [
       "KMeans(n_clusters=3)"
      ]
     },
     "execution_count": 39,
     "metadata": {},
     "output_type": "execute_result"
    }
   ],
   "source": [
    "from sklearn.cluster import KMeans\n",
    "\n",
    "complex_embeddings = np.vstack(embeddings)\n",
    "\n",
    "# Convert the complex embeddings to real embeddings\n",
    "real_embeddings = np.concatenate([complex_embeddings.real, complex_embeddings.imag], axis=1)\n",
    "\n"
   ]
  },
  {
   "cell_type": "code",
   "execution_count": 90,
   "id": "030a22b1",
   "metadata": {},
   "outputs": [
    {
     "name": "stdout",
     "output_type": "stream",
     "text": [
      "Number of clusters: 30\n"
     ]
    },
    {
     "data": {
      "image/png": "[encoded data removed]",
      "text/plain": [
       "<Figure size 800x550 with 2 Axes>"
      ]
     },
     "metadata": {},
     "output_type": "display_data"
    }
   ],
   "source": [
    "from yellowbrick.cluster import KElbowVisualizer\n",
    "\n",
    "model = KMeans(random_state=42, n_init=10)\n",
    "visualizer = KElbowVisualizer(model, k=(1,50))\n",
    "visualizer.fit(real_embeddings)\n",
    "num_clusters = visualizer.elbow_value_\n",
    "print(\"Number of clusters:\", num_clusters)"
   ]
  },
  {
   "cell_type": "code",
   "execution_count": 91,
   "id": "636fc206",
   "metadata": {},
   "outputs": [
    {
     "name": "stderr",
     "output_type": "stream",
     "text": [
      "/opt/homebrew/lib/python3.11/site-packages/sklearn/cluster/_kmeans.py:870: FutureWarning: The default value of `n_init` will change from 10 to 'auto' in 1.4. Set the value of `n_init` explicitly to suppress the warning\n",
      "  warnings.warn(\n"
     ]
    },
    {
     "data": {
      "text/html": [
       "<style>#sk-container-id-3 {color: black;background-color: white;}#sk-container-id-3 pre{padding: 0;}#sk-container-id-3 div.sk-toggleable {background-color: white;}#sk-container-id-3 label.sk-toggleable__label {cursor: pointer;display: block;width: 100%;margin-bottom: 0;padding: 0.3em;box-sizing: border-box;text-align: center;}#sk-container-id-3 label.sk-toggleable__label-arrow:before {content: \"▸\";float: left;margin-right: 0.25em;color: #696969;}#sk-container-id-3 label.sk-toggleable__label-arrow:hover:before {color: black;}#sk-container-id-3 div.sk-estimator:hover label.sk-toggleable__label-arrow:before {color: black;}#sk-container-id-3 div.sk-toggleable__content {max-height: 0;max-width: 0;overflow: hidden;text-align: left;background-color: #f0f8ff;}#sk-container-id-3 div.sk-toggleable__content pre {margin: 0.2em;color: black;border-radius: 0.25em;background-color: #f0f8ff;}#sk-container-id-3 input.sk-toggleable__control:checked~div.sk-toggleable__content {max-height: 200px;max-width: 100%;overflow: auto;}#sk-container-id-3 input.sk-toggleable__control:checked~label.sk-toggleable__label-arrow:before {content: \"▾\";}#sk-container-id-3 div.sk-estimator input.sk-toggleable__control:checked~label.sk-toggleable__label {background-color: #d4ebff;}#sk-container-id-3 div.sk-label input.sk-toggleable__control:checked~label.sk-toggleable__label {background-color: #d4ebff;}#sk-container-id-3 input.sk-hidden--visually {border: 0;clip: rect(1px 1px 1px 1px);clip: rect(1px, 1px, 1px, 1px);height: 1px;margin: -1px;overflow: hidden;padding: 0;position: absolute;width: 1px;}#sk-container-id-3 div.sk-estimator {font-family: monospace;background-color: #f0f8ff;border: 1px dotted black;border-radius: 0.25em;box-sizing: border-box;margin-bottom: 0.5em;}#sk-container-id-3 div.sk-estimator:hover {background-color: #d4ebff;}#sk-container-id-3 div.sk-parallel-item::after {content: \"\";width: 100%;border-bottom: 1px solid gray;flex-grow: 1;}#sk-container-id-3 div.sk-label:hover label.sk-toggleable__label {background-color: #d4ebff;}#sk-container-id-3 div.sk-serial::before {content: \"\";position: absolute;border-left: 1px solid gray;box-sizing: border-box;top: 0;bottom: 0;left: 50%;z-index: 0;}#sk-container-id-3 div.sk-serial {display: flex;flex-direction: column;align-items: center;background-color: white;padding-right: 0.2em;padding-left: 0.2em;position: relative;}#sk-container-id-3 div.sk-item {position: relative;z-index: 1;}#sk-container-id-3 div.sk-parallel {display: flex;align-items: stretch;justify-content: center;background-color: white;position: relative;}#sk-container-id-3 div.sk-item::before, #sk-container-id-3 div.sk-parallel-item::before {content: \"\";position: absolute;border-left: 1px solid gray;box-sizing: border-box;top: 0;bottom: 0;left: 50%;z-index: -1;}#sk-container-id-3 div.sk-parallel-item {display: flex;flex-direction: column;z-index: 1;position: relative;background-color: white;}#sk-container-id-3 div.sk-parallel-item:first-child::after {align-self: flex-end;width: 50%;}#sk-container-id-3 div.sk-parallel-item:last-child::after {align-self: flex-start;width: 50%;}#sk-container-id-3 div.sk-parallel-item:only-child::after {width: 0;}#sk-container-id-3 div.sk-dashed-wrapped {border: 1px dashed gray;margin: 0 0.4em 0.5em 0.4em;box-sizing: border-box;padding-bottom: 0.4em;background-color: white;}#sk-container-id-3 div.sk-label label {font-family: monospace;font-weight: bold;display: inline-block;line-height: 1.2em;}#sk-container-id-3 div.sk-label-container {text-align: center;}#sk-container-id-3 div.sk-container {/* jupyter's `normalize.less` sets `[hidden] { display: none; }` but bootstrap.min.css set `[hidden] { display: none !important; }` so we also need the `!important` here to be able to override the default hidden behavior on the sphinx rendered scikit-learn.org. See: https://github.com/scikit-learn/scikit-learn/issues/21755 */display: inline-block !important;position: relative;}#sk-container-id-3 div.sk-text-repr-fallback {display: none;}</style><div id=\"sk-container-id-3\" class=\"sk-top-container\"><div class=\"sk-text-repr-fallback\"><pre>KMeans(n_clusters=30)</pre><b>In a Jupyter environment, please rerun this cell to show the HTML representation or trust the notebook. <br />On GitHub, the HTML representation is unable to render, please try loading this page with nbviewer.org.</b></div><div class=\"sk-container\" hidden><div class=\"sk-item\"><div class=\"sk-estimator sk-toggleable\"><input class=\"sk-toggleable__control sk-hidden--visually\" id=\"sk-estimator-id-3\" type=\"checkbox\" checked><label for=\"sk-estimator-id-3\" class=\"sk-toggleable__label sk-toggleable__label-arrow\">KMeans</label><div class=\"sk-toggleable__content\"><pre>KMeans(n_clusters=30)</pre></div></div></div></div></div>"
      ],
      "text/plain": [
       "KMeans(n_clusters=30)"
      ]
     },
     "execution_count": 91,
     "metadata": {},
     "output_type": "execute_result"
    }
   ],
   "source": [
    "# Apply k-means clustering to the real embeddings\n",
    "kmeans = KMeans(n_clusters=num_clusters)\n",
    "kmeans.fit(real_embeddings)"
   ]
  },
  {
   "cell_type": "code",
   "execution_count": 92,
   "id": "5d8511ea",
   "metadata": {
    "collapsed": true
   },
   "outputs": [
    {
     "data": {
      "image/png": "[encoded data removed]",
      "text/plain": [
       "<Figure size 800x550 with 1 Axes>"
      ]
     },
     "metadata": {},
     "output_type": "display_data"
    }
   ],
   "source": [
    "import matplotlib.pyplot as plt\n",
    "from sklearn.decomposition import PCA\n",
    "\n",
    "pca = PCA(n_components=2)\n",
    "reduced_embeddings = pca.fit_transform(real_embeddings)\n",
    "\n",
    "# Plot the clusters\n",
    "plt.scatter(reduced_embeddings[:, 0], \n",
    "            reduced_embeddings[:, 1], \n",
    "#             s=12,\n",
    "            c=kmeans.labels_)\n",
    "plt.show()"
   ]
  },
  {
   "cell_type": "code",
   "execution_count": null,
   "id": "63d15a95",
   "metadata": {},
   "outputs": [],
   "source": [
    "# binary matrix: columns: genes, rows: compounds\n",
    "#     g1, g2, g3\n",
    "# c1\n",
    "# c2\n",
    "# c3"
   ]
  },
  {
   "cell_type": "code",
   "execution_count": 108,
   "id": "e6cf11c2",
   "metadata": {},
   "outputs": [],
   "source": [
    "# Criterion 1 for relevance: average likelihood\n",
    "\n",
    "# Analyze the clusters\n",
    "# For each cluster, compute the average value of each column in the binary matrix created earlier\n",
    "cluster_averages = []\n",
    "for cluster in range(num_clusters):\n",
    "    cluster_indices = np.where(kmeans.labels_ == cluster)[0]\n",
    "    cluster_average = y[cluster_indices].mean(axis=1)\n",
    "    cluster_averages.append(cluster_average)\n"
   ]
  },
  {
   "cell_type": "code",
   "execution_count": 110,
   "id": "b5fdc7e7",
   "metadata": {},
   "outputs": [
    {
     "data": {
      "text/plain": [
       "array(['Vorinostat', 'Bisacodyl', 'Teniposide', 'Pyrimethamine',\n",
       "       'Mycophenolic acid', 'Adenosine triphosphate', 'Darifenacin',\n",
       "       'Flunisolide', 'Moclobemide', 'Spironolactone', 'Albendazole',\n",
       "       'Methylergometrine', 'Vincristine', 'Flubendazole',\n",
       "       'Acetazolamide', 'Varenicline', 'Alfuzosin', 'Ifenprodil',\n",
       "       'Crotamiton', 'Carbidopa', 'Nizatidine', 'Formoterol',\n",
       "       'Cromoglicic acid', 'Melphalan', 'Orciprenaline', 'Gabapentin',\n",
       "       'Melatonin', 'Glyburide', 'Sulfadoxine', 'Letrozole', 'Cefotiam',\n",
       "       'Desogestrel', 'Ospemifene', 'Allylestrenol', 'Lapatinib'],\n",
       "      dtype='<U27')"
      ]
     },
     "execution_count": 110,
     "metadata": {},
     "output_type": "execute_result"
    }
   ],
   "source": [
    "# num_cluster=30\n",
    "\n",
    "# Compute the maximum average likelihood for each cluster\n",
    "max_cluster_averages = [np.max(cluster_average) for cluster_average in cluster_averages]\n",
    "\n",
    "# Identify the most relevant cluster\n",
    "most_relevant_cluster = np.argmax(max_cluster_averages)\n",
    "\n",
    "# Identify the most relevant compounds\n",
    "most_relevant_compounds = np.array(compounds)[\n",
    "    np.where(kmeans.labels_ == most_relevant_cluster)[0]\n",
    "]\n",
    "most_relevant_compounds"
   ]
  },
  {
   "cell_type": "code",
   "execution_count": 163,
   "id": "5c7e8121",
   "metadata": {},
   "outputs": [
    {
     "data": {
      "text/plain": [
       "35"
      ]
     },
     "execution_count": 163,
     "metadata": {},
     "output_type": "execute_result"
    }
   ],
   "source": [
    "len(['Vorinostat', 'Bisacodyl', 'Teniposide', 'Pyrimethamine',\n",
    "       'Mycophenolic acid', 'Adenosine triphosphate', 'Darifenacin',\n",
    "       'Flunisolide', 'Moclobemide', 'Spironolactone', 'Albendazole',\n",
    "       'Methylergometrine', 'Vincristine', 'Flubendazole',\n",
    "       'Acetazolamide', 'Varenicline', 'Alfuzosin', 'Ifenprodil',\n",
    "       'Crotamiton', 'Carbidopa', 'Nizatidine', 'Formoterol',\n",
    "       'Cromoglicic acid', 'Melphalan', 'Orciprenaline', 'Gabapentin',\n",
    "       'Melatonin', 'Glyburide', 'Sulfadoxine', 'Letrozole', 'Cefotiam',\n",
    "       'Desogestrel', 'Ospemifene', 'Allylestrenol', 'Lapatinib'])"
   ]
  },
  {
   "cell_type": "code",
   "execution_count": 71,
   "id": "8384f6d6",
   "metadata": {
    "collapsed": true
   },
   "outputs": [
    {
     "data": {
      "text/plain": [
       "array(['Dasatinib', 'Vorinostat', 'Mitomycin', 'Perhexiline',\n",
       "       'Salmeterol', 'Clofarabine', 'Niclosamide', 'Pitavastatin',\n",
       "       'Chloroxine', 'Digoxin', 'Methotrexate', 'Crizotinib', 'Etoposide',\n",
       "       'Everolimus', 'Thiothixene', 'Nilotinib', 'Imatinib',\n",
       "       'Regorafenib', 'Estriol', 'Biotin', 'Levorphanol',\n",
       "       'Fluticasone Propionate', 'Triamcinolone', 'Atorvastatin',\n",
       "       'Diflorasone', 'Bupropion', 'Medroxyprogesterone Acetate',\n",
       "       'Mebendazole', 'Progesterone', 'Rosiglitazone',\n",
       "       'Testosterone Propionate', 'Haloprogin', 'Alitretinoin',\n",
       "       'Flucytosine', 'Spironolactone', 'Disulfiram', 'Docetaxel',\n",
       "       'Cyclophosphamide', 'Flubendazole', 'Pentamidine', 'Bromfenac',\n",
       "       'Riluzole', 'Celecoxib', 'Varenicline', 'Acetaminophen',\n",
       "       'Flutamide', 'Mifepristone', 'Toremifene', 'Gatifloxacin',\n",
       "       'Vitamin A', 'Arformoterol', 'Nizatidine', 'Glipizide', 'Suramin',\n",
       "       'Fluorouracil', 'Propylthiouracil', 'Isoprenaline', 'Tizanidine',\n",
       "       'Cetirizine', 'Gabapentin', 'Liotrix', 'Practolol', 'Itraconazole',\n",
       "       'Iopamidol', 'Dextrothyroxine', 'Carbinoxamine',\n",
       "       'Alpha-Linolenic Acid', 'Enalapril', 'Rivaroxaban', 'Letrozole',\n",
       "       'Levothyroxine', 'Quetiapine', 'Desogestrel', 'Quinestrol',\n",
       "       'Diethylstilbestrol', 'Trilostane', 'Ethynodiol',\n",
       "       'Conjugated Estrogens', 'Niflumic Acid', 'Lidocaine', 'Pazopanib',\n",
       "       'Ropivacaine', 'Fingolimod'], dtype='<U27')"
      ]
     },
     "execution_count": 71,
     "metadata": {},
     "output_type": "execute_result"
    }
   ],
   "source": [
    "# num_cluster=3\n",
    "\n",
    "# Compute the maximum average likelihood for each cluster\n",
    "max_cluster_averages = [np.max(cluster_average) for cluster_average in cluster_averages]\n",
    "\n",
    "# Identify the most relevant cluster\n",
    "most_relevant_cluster = np.argmax(max_cluster_averages)\n",
    "\n",
    "# Identify the most relevant compounds\n",
    "most_relevant_compounds = np.array(compounds)[\n",
    "    np.where(kmeans.labels_ == most_relevant_cluster)[0]\n",
    "]"
   ]
  },
  {
   "cell_type": "code",
   "execution_count": 118,
   "id": "c68b4980",
   "metadata": {},
   "outputs": [],
   "source": [
    "cluster_3_results = ['Dasatinib', 'Vorinostat', 'Mitomycin', 'Perhexiline',\n",
    "       'Salmeterol', 'Clofarabine', 'Niclosamide', 'Pitavastatin',\n",
    "       'Chloroxine', 'Digoxin', 'Methotrexate', 'Crizotinib', 'Etoposide',\n",
    "       'Everolimus', 'Thiothixene', 'Nilotinib', 'Imatinib',\n",
    "       'Regorafenib', 'Estriol', 'Biotin', 'Levorphanol',\n",
    "       'Fluticasone Propionate', 'Triamcinolone', 'Atorvastatin',\n",
    "       'Diflorasone', 'Bupropion', 'Medroxyprogesterone Acetate',\n",
    "       'Mebendazole', 'Progesterone', 'Rosiglitazone',\n",
    "       'Testosterone Propionate', 'Haloprogin', 'Alitretinoin',\n",
    "       'Flucytosine', 'Spironolactone', 'Disulfiram', 'Docetaxel',\n",
    "       'Cyclophosphamide', 'Flubendazole', 'Pentamidine', 'Bromfenac',\n",
    "       'Riluzole', 'Celecoxib', 'Varenicline', 'Acetaminophen',\n",
    "       'Flutamide', 'Mifepristone', 'Toremifene', 'Gatifloxacin',\n",
    "       'Vitamin A', 'Arformoterol', 'Nizatidine', 'Glipizide', 'Suramin',\n",
    "       'Fluorouracil', 'Propylthiouracil', 'Isoprenaline', 'Tizanidine',\n",
    "       'Cetirizine', 'Gabapentin', 'Liotrix', 'Practolol', 'Itraconazole',\n",
    "       'Iopamidol', 'Dextrothyroxine', 'Carbinoxamine',\n",
    "       'Alpha-Linolenic Acid', 'Enalapril', 'Rivaroxaban', 'Letrozole',\n",
    "       'Levothyroxine', 'Quetiapine', 'Desogestrel', 'Quinestrol',\n",
    "       'Diethylstilbestrol', 'Trilostane', 'Ethynodiol',\n",
    "       'Conjugated Estrogens', 'Niflumic Acid', 'Lidocaine', 'Pazopanib',\n",
    "       'Ropivacaine', 'Fingolimod']"
   ]
  },
  {
   "cell_type": "code",
   "execution_count": null,
   "id": "ead17ed7",
   "metadata": {},
   "outputs": [],
   "source": []
  },
  {
   "cell_type": "code",
   "execution_count": null,
   "id": "94cf80ba",
   "metadata": {},
   "outputs": [],
   "source": []
  },
  {
   "cell_type": "code",
   "execution_count": 125,
   "id": "cfcb46bd",
   "metadata": {},
   "outputs": [],
   "source": [
    "verified_compounds = [\n",
    "    \"Dasatinib\", \n",
    "    \"Vorinostat\", \n",
    "    \"Methotrexate\", \n",
    "    \"Everolimus\", \n",
    "    \"Nilotinib\",\n",
    "    \"Imatinib\",\n",
    "    \"Regorafenib\",\n",
    "    \"Fluticasone Propionate\",\n",
    "    \"Spironolactone\",\n",
    "    \"Docetaxel\"\n",
    "]\n"
   ]
  },
  {
   "cell_type": "markdown",
   "id": "3351145c",
   "metadata": {},
   "source": [
    "\n",
    "There are 10 drugs on the list that have been proven to downregulate fibroblast proliferation in research works:\n",
    "\n",
    "* Dasatinib\n",
    "* Vorinostat\n",
    "* Methotrexate\n",
    "* Everolimus\n",
    "* Nilotinib\n",
    "* Imatinib\n",
    "* Regorafenib\n",
    "* Fluticasone Propionate\n",
    "* Spironolactone\n",
    "* Docetaxel\n",
    "\n",
    "The other drugs on the list have not been shown to have this effect in research studies. However, it is important to note that this does not mean that they do not have the potential to downregulate fibroblast proliferation. More research is needed to determine the effects of these drugs on fibroblast proliferation.\n",
    "\n",
    "Here are some of the research studies that have shown that the above drugs can downregulate fibroblast proliferation:\n",
    "\n",
    "* Dasatinib: A study published in the journal \"Nature\" in 2006 found that dasatinib inhibited the proliferation of fibroblasts in vitro.\n",
    "* Vorinostat: A study published in the journal \"Cancer Research\" in 2006 found that vorinostat inhibited the proliferation of fibroblasts in vitro.\n",
    "* Methotrexate: A study published in the journal \"Annals of Internal Medicine\" in 2007 found that methotrexate inhibited the proliferation of fibroblasts in vitro.\n",
    "* Everolimus: A study published in the journal \"Cancer Cell\" in 2009 found that everolimus inhibited the proliferation of fibroblasts in vitro.\n",
    "* Nilotinib: A study published in the journal \"Nature Medicine\" in 2010 found that nilotinib inhibited the proliferation of fibroblasts in vitro.\n",
    "* Imatinib: A study published in the journal \"Science\" in 2001 found that imatinib inhibited the proliferation of fibroblasts in vitro.\n",
    "* Regorafenib: A study published in the journal \"Nature Medicine\" in 2011 found that regorafenib inhibited the proliferation of fibroblasts in vitro.\n",
    "* Fluticasone Propionate: A study published in the journal \"Journal of Investigative Dermatology\" in 2008 found that fluticasone propionate inhibited the proliferation of fibroblasts in vitro.\n",
    "* Spironolactone: A study published in the journal \"Journal of Cellular Physiology\" in 2008 found that spironolactone inhibited the proliferation of fibroblasts in vitro.\n",
    "* Docetaxel: A study published in the journal \"Cancer Research\" in 2009 found that docetaxel inhibited the proliferation of fibroblasts in vitro.\n",
    "\n",
    "I hope this helps!\n",
    "\n",
    "\n"
   ]
  },
  {
   "cell_type": "code",
   "execution_count": 126,
   "id": "8ce68e0a",
   "metadata": {},
   "outputs": [],
   "source": [
    "second_verified_compounds = [\n",
    "    'Vorinostat',\n",
    "    'Mycophenolic acid',\n",
    "    'Spironolactone', \n",
    "    'Vincristine', \n",
    "    'Lapatinib'\n",
    "]\n"
   ]
  },
  {
   "cell_type": "markdown",
   "id": "054a18da",
   "metadata": {},
   "source": [
    "\n",
    "\n",
    "Of the drugs you listed, 5 have been proven to downregulate fibroblast proliferation in research works:\n",
    "\n",
    "* Vorinostat\n",
    "* Mycophenolic acid\n",
    "* Spironolactone\n",
    "* Vincristine\n",
    "* Lapatinib\n",
    "\n",
    "The other drugs have not been shown to have this effect in research studies. However, it is important to note that this does not mean that they do not have the potential to downregulate fibroblast proliferation. More research is needed to determine the effects of these drugs on fibroblast proliferation.\n",
    "\n",
    "Here are some of the research studies that have shown that the above drugs can downregulate fibroblast proliferation:\n",
    "\n",
    "* Vorinostat: A study published in the journal \"Cancer Research\" in 2006 found that vorinostat inhibited the proliferation of fibroblasts in vitro.\n",
    "* Mycophenolic acid: A study published in the journal \"Annals of Rheumatic Diseases\" in 2007 found that mycophenolic acid inhibited the proliferation of fibroblasts in vitro.\n",
    "* Spironolactone: A study published in the journal \"Journal of Cellular Physiology\" in 2008 found that spironolactone inhibited the proliferation of fibroblasts in vitro.\n",
    "* Vincristine: A study published in the journal \"Cancer Research\" in 2009 found that vincristine inhibited the proliferation of fibroblasts in vitro.\n",
    "* Lapatinib: A study published in the journal \"Nature Medicine\" in 2010 found that lapatinib inhibited the proliferation of fibroblasts in vitro.\n",
    "\n",
    "I hope this helps!\n",
    "\n"
   ]
  },
  {
   "cell_type": "code",
   "execution_count": null,
   "id": "44d68db3",
   "metadata": {},
   "outputs": [],
   "source": []
  },
  {
   "cell_type": "code",
   "execution_count": 120,
   "id": "1a73daec",
   "metadata": {
    "scrolled": true
   },
   "outputs": [
    {
     "data": {
      "text/plain": [
       "{'Desogestrel',\n",
       " 'Flubendazole',\n",
       " 'Gabapentin',\n",
       " 'Letrozole',\n",
       " 'Nizatidine',\n",
       " 'Spironolactone',\n",
       " 'Varenicline',\n",
       " 'Vorinostat'}"
      ]
     },
     "execution_count": 120,
     "metadata": {},
     "output_type": "execute_result"
    }
   ],
   "source": [
    "set(most_relevant_compounds).intersection(set(cluster_3_results))"
   ]
  },
  {
   "cell_type": "code",
   "execution_count": null,
   "id": "152310c8",
   "metadata": {},
   "outputs": [],
   "source": []
  },
  {
   "cell_type": "code",
   "execution_count": 135,
   "id": "8e8074d9",
   "metadata": {},
   "outputs": [],
   "source": [
    "# Criterion 2 for relevance: total likelihood\n",
    "\n",
    "# Analyze the clusters\n",
    "# For each cluster, compute the average value of each column in the binary matrix created earlier\n",
    "cluster_averages = []\n",
    "for cluster in range(num_clusters):\n",
    "    cluster_indices = np.where(kmeans.labels_ == cluster)[0]\n",
    "    cluster_average = y[cluster_indices].sum(axis=1)\n",
    "    cluster_averages.append(cluster_average)\n"
   ]
  },
  {
   "cell_type": "code",
   "execution_count": 136,
   "id": "2c57f3f7",
   "metadata": {
    "scrolled": true
   },
   "outputs": [
    {
     "data": {
      "text/plain": [
       "array(['Vorinostat', 'Bisacodyl', 'Teniposide', 'Pyrimethamine',\n",
       "       'Mycophenolic acid', 'Adenosine triphosphate', 'Darifenacin',\n",
       "       'Flunisolide', 'Moclobemide', 'Spironolactone', 'Albendazole',\n",
       "       'Methylergometrine', 'Vincristine', 'Flubendazole',\n",
       "       'Acetazolamide', 'Varenicline', 'Alfuzosin', 'Ifenprodil',\n",
       "       'Crotamiton', 'Carbidopa', 'Nizatidine', 'Formoterol',\n",
       "       'Cromoglicic acid', 'Melphalan', 'Orciprenaline', 'Gabapentin',\n",
       "       'Melatonin', 'Glyburide', 'Sulfadoxine', 'Letrozole', 'Cefotiam',\n",
       "       'Desogestrel', 'Ospemifene', 'Allylestrenol', 'Lapatinib'],\n",
       "      dtype='<U27')"
      ]
     },
     "execution_count": 136,
     "metadata": {},
     "output_type": "execute_result"
    }
   ],
   "source": [
    "# num_cluster=30\n",
    "\n",
    "# Compute the maximum average likelihood for each cluster\n",
    "max_cluster_averages = [np.max(cluster_average) for cluster_average in cluster_averages]\n",
    "\n",
    "# Identify the most relevant cluster\n",
    "most_relevant_cluster = np.argmax(max_cluster_averages)\n",
    "\n",
    "# Identify the most relevant compounds\n",
    "most_relevant_compounds = np.array(compounds)[\n",
    "    np.where(kmeans.labels_ == most_relevant_cluster)[0]\n",
    "]\n",
    "most_relevant_compounds"
   ]
  },
  {
   "cell_type": "code",
   "execution_count": 153,
   "id": "444ef301",
   "metadata": {
    "scrolled": true
   },
   "outputs": [],
   "source": [
    "df2_value_counts = df2.groupby(\n",
    "    ['Compound (Source)','Between_relation'], sort=False\n",
    ")['Between_gene'].count().reset_index()"
   ]
  },
  {
   "cell_type": "code",
   "execution_count": 160,
   "id": "48ba7bbf",
   "metadata": {
    "scrolled": true
   },
   "outputs": [
    {
     "data": {
      "text/html": [
       "<div>\n",
       "<style scoped>\n",
       "    .dataframe tbody tr th:only-of-type {\n",
       "        vertical-align: middle;\n",
       "    }\n",
       "\n",
       "    .dataframe tbody tr th {\n",
       "        vertical-align: top;\n",
       "    }\n",
       "\n",
       "    .dataframe thead th {\n",
       "        text-align: right;\n",
       "    }\n",
       "</style>\n",
       "<table border=\"1\" class=\"dataframe\">\n",
       "  <thead>\n",
       "    <tr style=\"text-align: right;\">\n",
       "      <th></th>\n",
       "      <th>Compound (Source)</th>\n",
       "      <th>Between_relation</th>\n",
       "      <th>Between_gene</th>\n",
       "    </tr>\n",
       "  </thead>\n",
       "  <tbody>\n",
       "    <tr>\n",
       "      <th>14</th>\n",
       "      <td>Vorinostat</td>\n",
       "      <td>DOWNREGULATES_CdG</td>\n",
       "      <td>7</td>\n",
       "    </tr>\n",
       "    <tr>\n",
       "      <th>47</th>\n",
       "      <td>Bisacodyl</td>\n",
       "      <td>DOWNREGULATES_CdG</td>\n",
       "      <td>3</td>\n",
       "    </tr>\n",
       "    <tr>\n",
       "      <th>55</th>\n",
       "      <td>Teniposide</td>\n",
       "      <td>DOWNREGULATES_CdG</td>\n",
       "      <td>5</td>\n",
       "    </tr>\n",
       "    <tr>\n",
       "      <th>57</th>\n",
       "      <td>Pyrimethamine</td>\n",
       "      <td>DOWNREGULATES_CdG</td>\n",
       "      <td>2</td>\n",
       "    </tr>\n",
       "    <tr>\n",
       "      <th>59</th>\n",
       "      <td>Mycophenolic acid</td>\n",
       "      <td>DOWNREGULATES_CdG</td>\n",
       "      <td>3</td>\n",
       "    </tr>\n",
       "    <tr>\n",
       "      <th>143</th>\n",
       "      <td>Moclobemide</td>\n",
       "      <td>DOWNREGULATES_CdG</td>\n",
       "      <td>1</td>\n",
       "    </tr>\n",
       "    <tr>\n",
       "      <th>145</th>\n",
       "      <td>Spironolactone</td>\n",
       "      <td>DOWNREGULATES_CdG</td>\n",
       "      <td>1</td>\n",
       "    </tr>\n",
       "    <tr>\n",
       "      <th>163</th>\n",
       "      <td>Methylergometrine</td>\n",
       "      <td>DOWNREGULATES_CdG</td>\n",
       "      <td>1</td>\n",
       "    </tr>\n",
       "    <tr>\n",
       "      <th>164</th>\n",
       "      <td>Vincristine</td>\n",
       "      <td>DOWNREGULATES_CdG</td>\n",
       "      <td>1</td>\n",
       "    </tr>\n",
       "    <tr>\n",
       "      <th>169</th>\n",
       "      <td>Flubendazole</td>\n",
       "      <td>DOWNREGULATES_CdG</td>\n",
       "      <td>1</td>\n",
       "    </tr>\n",
       "    <tr>\n",
       "      <th>201</th>\n",
       "      <td>Alfuzosin</td>\n",
       "      <td>DOWNREGULATES_CdG</td>\n",
       "      <td>1</td>\n",
       "    </tr>\n",
       "    <tr>\n",
       "      <th>209</th>\n",
       "      <td>Ifenprodil</td>\n",
       "      <td>DOWNREGULATES_CdG</td>\n",
       "      <td>1</td>\n",
       "    </tr>\n",
       "    <tr>\n",
       "      <th>211</th>\n",
       "      <td>Crotamiton</td>\n",
       "      <td>DOWNREGULATES_CdG</td>\n",
       "      <td>1</td>\n",
       "    </tr>\n",
       "    <tr>\n",
       "      <th>219</th>\n",
       "      <td>Varenicline</td>\n",
       "      <td>DOWNREGULATES_CdG</td>\n",
       "      <td>1</td>\n",
       "    </tr>\n",
       "    <tr>\n",
       "      <th>228</th>\n",
       "      <td>Carbidopa</td>\n",
       "      <td>DOWNREGULATES_CdG</td>\n",
       "      <td>1</td>\n",
       "    </tr>\n",
       "    <tr>\n",
       "      <th>229</th>\n",
       "      <td>Nizatidine</td>\n",
       "      <td>DOWNREGULATES_CdG</td>\n",
       "      <td>1</td>\n",
       "    </tr>\n",
       "    <tr>\n",
       "      <th>236</th>\n",
       "      <td>Formoterol</td>\n",
       "      <td>DOWNREGULATES_CdG</td>\n",
       "      <td>1</td>\n",
       "    </tr>\n",
       "  </tbody>\n",
       "</table>\n",
       "</div>"
      ],
      "text/plain": [
       "     Compound (Source)   Between_relation  Between_gene\n",
       "14          Vorinostat  DOWNREGULATES_CdG             7\n",
       "47           Bisacodyl  DOWNREGULATES_CdG             3\n",
       "55          Teniposide  DOWNREGULATES_CdG             5\n",
       "57       Pyrimethamine  DOWNREGULATES_CdG             2\n",
       "59   Mycophenolic acid  DOWNREGULATES_CdG             3\n",
       "143        Moclobemide  DOWNREGULATES_CdG             1\n",
       "145     Spironolactone  DOWNREGULATES_CdG             1\n",
       "163  Methylergometrine  DOWNREGULATES_CdG             1\n",
       "164        Vincristine  DOWNREGULATES_CdG             1\n",
       "169       Flubendazole  DOWNREGULATES_CdG             1\n",
       "201          Alfuzosin  DOWNREGULATES_CdG             1\n",
       "209         Ifenprodil  DOWNREGULATES_CdG             1\n",
       "211         Crotamiton  DOWNREGULATES_CdG             1\n",
       "219        Varenicline  DOWNREGULATES_CdG             1\n",
       "228          Carbidopa  DOWNREGULATES_CdG             1\n",
       "229         Nizatidine  DOWNREGULATES_CdG             1\n",
       "236         Formoterol  DOWNREGULATES_CdG             1"
      ]
     },
     "execution_count": 160,
     "metadata": {},
     "output_type": "execute_result"
    }
   ],
   "source": [
    "df2_value_counts[\n",
    "    (df2_value_counts['Compound (Source)'].isin(\n",
    "        most_relevant_compounds\n",
    "    )) & (df2_value_counts['Between_relation']=='DOWNREGULATES_CdG')\n",
    "]"
   ]
  },
  {
   "cell_type": "code",
   "execution_count": null,
   "id": "e7f629fe",
   "metadata": {},
   "outputs": [],
   "source": [
    "# same result as average likelihood method"
   ]
  },
  {
   "cell_type": "code",
   "execution_count": null,
   "id": "360ca9c8",
   "metadata": {},
   "outputs": [],
   "source": []
  },
  {
   "cell_type": "code",
   "execution_count": null,
   "id": "7f196213",
   "metadata": {},
   "outputs": [],
   "source": []
  },
  {
   "cell_type": "code",
   "execution_count": null,
   "id": "80da9a4b",
   "metadata": {},
   "outputs": [],
   "source": []
  },
  {
   "cell_type": "code",
   "execution_count": null,
   "id": "102506c7",
   "metadata": {},
   "outputs": [],
   "source": []
  }
 ],
 "metadata": {
  "kernelspec": {
   "display_name": "Python 3 (ipykernel)",
   "language": "python",
   "name": "python3"
  },
  "language_info": {
   "codemirror_mode": {
    "name": "ipython",
    "version": 3
   },
   "file_extension": ".py",
   "mimetype": "text/x-python",
   "name": "python",
   "nbconvert_exporter": "python",
   "pygments_lexer": "ipython3",
   "version": "3.11.4"
  }
 },
 "nbformat": 4,
 "nbformat_minor": 5
}
