{
 "cells": [
  {
   "cell_type": "markdown",
   "id": "441fdfed",
   "metadata": {},
   "source": [
    "## Wound Healing"
   ]
  },
  {
   "cell_type": "markdown",
   "id": "7cf57338",
   "metadata": {},
   "source": [
    "### Fibrosis \n",
    "is the process of scarring and tissue hardening caused by the excess deposition of extracellular matrix (ECM) proteins by *myofibroblasts* and *fibroblasts*. \n",
    "\n",
    "In some cases, other cells like *hepatic stellate cells* in the liver and *vascular smooth muscle cells* in blood vessels can also produce collagen and contribute to fibrosis.\n",
    "\n",
    "\n",
    "1. Excessive myofibroblasts cells -> fibrosis\n",
    "2. Excessive fibroblasts cells -> fibrosis\n",
    "3. Excessive hepatic stellate cells -> liver fibrosis\n",
    "4. Excessive vascular smooth muscle cells -> blood vessel fibrosis\n",
    "\n",
    "How? \\\n",
    "by producing extracellular matrix proteins.\n",
    "\n",
    "\n",
    "However, fibrosis is a complex process. Other cells, such as *immune cells*, can also contribute to the development of fibrosis by releasing soluble factors that stimulate fibroblasts and myofibroblasts."
   ]
  },
  {
   "cell_type": "markdown",
   "id": "725af253",
   "metadata": {},
   "source": [
    "### Fibroblasts \n",
    "are a type of cell found in connective tissue throughout the body. \\\n",
    "They produce and maintain the extracellular matrix, which provides structural support to tissues and organs. \\\n",
    "Fibroblasts are necessary for wound healing by producing collagen and other extracellular matrix proteins to repair damaged tissue. \\\n",
    "But dangerous in excess -> leads to fibrosis\n",
    "\n"
   ]
  },
  {
   "cell_type": "markdown",
   "id": "be2c1767",
   "metadata": {},
   "source": [
    "### Vascular smooth muscle cells (VSMCs) \n",
    "\n",
    "are specialized cells found in the walls of blood vessels. \\\n",
    "they do contraction and relaxation of blood vessels, which helps regulate blood flow and blood pressure. \\\n",
    "VSMCs can also change their phenotype in response to injury or disease, and start producing excessive extracellular matrix proteins, leading to *fibrosis*.\n"
   ]
  },
  {
   "cell_type": "markdown",
   "id": "1a00870a",
   "metadata": {},
   "source": []
  }
 ],
 "metadata": {
  "kernelspec": {
   "display_name": "Python 3 (ipykernel)",
   "language": "python",
   "name": "python3"
  },
  "language_info": {
   "codemirror_mode": {
    "name": "ipython",
    "version": 3
   },
   "file_extension": ".py",
   "mimetype": "text/x-python",
   "name": "python",
   "nbconvert_exporter": "python",
   "pygments_lexer": "ipython3",
   "version": "3.11.4"
  }
 },
 "nbformat": 4,
 "nbformat_minor": 5
}
